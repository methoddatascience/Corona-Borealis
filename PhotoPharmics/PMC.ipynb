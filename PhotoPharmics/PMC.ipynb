{
 "cells": [
  {
   "cell_type": "markdown",
   "metadata": {},
   "source": [
    "Trial from instructions posted here: https://www.ncbi.nlm.nih.gov/pmc/tools/oai/#examples\n",
    "\n",
    "Specifically under the ListRecords section, we can see the full text XML for a specific timerange by using the below URL:\n",
    "https://www.ncbi.nlm.nih.gov/pmc/oai/oai.cgi?verb=ListRecords&from=2001-03-22&until=2001-06-12&set=bmcbioc&metadataPrefix=pmc\n",
    "\n",
    "It has quite a few information in the XML which will be digested below."
   ]
  },
  {
   "cell_type": "code",
   "execution_count": 2,
   "metadata": {},
   "outputs": [],
   "source": [
    "from bs4 import BeautifulSoup\n",
    "import requests\n"
   ]
  },
  {
   "cell_type": "code",
   "execution_count": 3,
   "metadata": {},
   "outputs": [
    {
     "name": "stdout",
     "output_type": "stream",
     "text": [
      "https://www.ncbi.nlm.nih.gov/pmc/oai/oai.cgi?verb=ListRecords&from=2018-01-22&until=2018-06-22&set=bmcbioc&metadataPrefix=pmc\n"
     ]
    }
   ],
   "source": [
    "begin_date = '2018-01-22'\n",
    "end_date = '2018-06-22'\n",
    "\n",
    "url = 'https://www.ncbi.nlm.nih.gov/pmc/oai/' +\\\n",
    "      'oai.cgi?verb=ListRecords&from={}&until={}'\\\n",
    "      .format(begin_date, end_date) +\\\n",
    "      '&set=bmcbioc&metadataPrefix=pmc'\n",
    "print url"
   ]
  },
  {
   "cell_type": "code",
   "execution_count": 4,
   "metadata": {},
   "outputs": [
    {
     "data": {
      "text/plain": [
       "200"
      ]
     },
     "execution_count": 4,
     "metadata": {},
     "output_type": "execute_result"
    }
   ],
   "source": [
    "#do we have a good return status from the site\n",
    "r = requests.get(url)\n",
    "r.status_code"
   ]
  },
  {
   "cell_type": "code",
   "execution_count": 5,
   "metadata": {},
   "outputs": [],
   "source": [
    "soup = BeautifulSoup(r.content, \"lxml\")"
   ]
  },
  {
   "cell_type": "code",
   "execution_count": 6,
   "metadata": {},
   "outputs": [],
   "source": [
    "samples = soup.find_all(\"record\")"
   ]
  },
  {
   "cell_type": "code",
   "execution_count": 7,
   "metadata": {},
   "outputs": [
    {
     "data": {
      "text/plain": [
       "[<abstract id=\"Abs1\">\\n<sec>\\n<title>Background</title>\\n<p id=\"Par1\">Enzymes display high reactivity and selectivity under natural conditions, but may suffer from decreased efficiency in industrial applications. A strategy to address this limitation is to immobilize the enzyme. Mesoporous silica materials offer unique properties as an immobilization support, such as high surface area and tunable pore size.</p>\\n</sec>\\n<sec>\\n<title>Results</title>\\n<p id=\"Par2\">The performance of a commercially available feruloyl esterase, E-FAERU, immobilized on mesoporous silica by physical adsorption was evaluated for its transesterification ability. We optimized the immobilization conditions by varying the support pore size, the immobilization buffer and its pH. Maximum loading and maximum activity were achieved at different pHs (4.0 and 6.0 respectively). Selectivity, shown by the transesterification/hydrolysis products molar ratio, varied more than 3-fold depending on the reaction buffer used and its pH. Under all conditions studied, hydrolysis was the dominant activity of the enzyme. pH and water content had the greatest influence on the enzyme selectivity and activity. Determined kinetic parameters of the enzyme were obtained and\\xa0showed that K<sub>m</sub> was not affected by the immobilization but k<sub>cat</sub> was reduced 10-fold when comparing the free and immobilized enzymes. Thermal and pH stabilities as well as the reusability were investigated. The immobilized biocatalyst retained more than 20% of its activity after ten cycles of transesterification reaction.</p>\\n</sec>\\n<sec>\\n<title>Conclusions</title>\\n<p id=\"Par3\">These results indicate that this enzyme is more suited for hydrolysis reactions than transesterification despite good reusability. Furthermore, it was found that the immobilization conditions are crucial for optimal enzyme activity as they can alter the enzyme performance.</p>\\n</sec>\\n<sec>\\n<title>Electronic supplementary material</title>\\n<p>The online version of this article (10.1186/s12858-018-0091-y) contains supplementary material, which is available to authorized users.</p>\\n</sec>\\n</abstract>]"
      ]
     },
     "execution_count": 7,
     "metadata": {},
     "output_type": "execute_result"
    }
   ],
   "source": [
    "#first record info\n",
    "samples[0].find_all(\"abstract\")"
   ]
  },
  {
   "cell_type": "code",
   "execution_count": null,
   "metadata": {},
   "outputs": [],
   "source": []
  }
 ],
 "metadata": {
  "kernelspec": {
   "display_name": "Python 2",
   "language": "python",
   "name": "python2"
  },
  "language_info": {
   "codemirror_mode": {
    "name": "ipython",
    "version": 2
   },
   "file_extension": ".py",
   "mimetype": "text/x-python",
   "name": "python",
   "nbconvert_exporter": "python",
   "pygments_lexer": "ipython2",
   "version": "2.7.14"
  }
 },
 "nbformat": 4,
 "nbformat_minor": 2
}
