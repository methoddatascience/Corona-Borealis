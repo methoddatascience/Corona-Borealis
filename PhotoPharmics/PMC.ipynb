{
 "cells": [
  {
   "cell_type": "markdown",
   "metadata": {},
   "source": [
    "Trial from instructions posted here: https://www.ncbi.nlm.nih.gov/pmc/tools/oai/#examples\n",
    "\n",
    "Specifically under the ListRecords section, we can see the full text XML for a specific timerange by using the below URL:\n",
    "https://www.ncbi.nlm.nih.gov/pmc/oai/oai.cgi?verb=ListRecords&from=2001-03-22&until=2001-06-12&set=bmcbioc&metadataPrefix=pmc\n",
    "\n",
    "It has quite a few information in the XML which will be digested below."
   ]
  },
  {
   "cell_type": "code",
   "execution_count": 21,
   "metadata": {},
   "outputs": [],
   "source": [
    "from bs4 import BeautifulSoup\n",
    "import nltk\n",
    "import requests\n"
   ]
  },
  {
   "cell_type": "code",
   "execution_count": 3,
   "metadata": {},
   "outputs": [
    {
     "name": "stdout",
     "output_type": "stream",
     "text": [
      "https://www.ncbi.nlm.nih.gov/pmc/oai/oai.cgi?verb=ListRecords&from=2018-01-22&until=2018-06-22&set=bmcbioc&metadataPrefix=pmc\n"
     ]
    }
   ],
   "source": [
    "begin_date = '2018-01-22'\n",
    "end_date = '2018-06-22'\n",
    "\n",
    "url = 'https://www.ncbi.nlm.nih.gov/pmc/oai/' +\\\n",
    "      'oai.cgi?verb=ListRecords&from={}&until={}'\\\n",
    "      .format(begin_date, end_date) +\\\n",
    "      '&set=bmcbioc&metadataPrefix=pmc'\n",
    "print url"
   ]
  },
  {
   "cell_type": "code",
   "execution_count": 4,
   "metadata": {},
   "outputs": [
    {
     "data": {
      "text/plain": [
       "200"
      ]
     },
     "execution_count": 4,
     "metadata": {},
     "output_type": "execute_result"
    }
   ],
   "source": [
    "#do we have a good return status from the site\n",
    "r = requests.get(url)\n",
    "r.status_code"
   ]
  },
  {
   "cell_type": "code",
   "execution_count": 5,
   "metadata": {},
   "outputs": [],
   "source": [
    "soup = BeautifulSoup(r.content, \"lxml\")"
   ]
  },
  {
   "cell_type": "code",
   "execution_count": 12,
   "metadata": {},
   "outputs": [],
   "source": [
    "samples = soup.find(\"record\")"
   ]
  },
  {
   "cell_type": "code",
   "execution_count": 18,
   "metadata": {},
   "outputs": [
    {
     "data": {
      "text/plain": [
       "u'Enzymes display high reactivity and selectivity under natural conditions, but may suffer from decreased efficiency in industrial applications. A strategy to address this limitation is to immobilize the enzyme. Mesoporous silica materials offer unique properties as an immobilization support, such as high surface area and tunable pore size.'"
      ]
     },
     "execution_count": 18,
     "metadata": {},
     "output_type": "execute_result"
    }
   ],
   "source": [
    "#first record info\n",
    "samples.find(\"abstract\").find('p').text"
   ]
  },
  {
   "cell_type": "code",
   "execution_count": 19,
   "metadata": {},
   "outputs": [],
   "source": [
    "abstract = samples.find(\"abstract\").find('p').text"
   ]
  },
  {
   "cell_type": "code",
   "execution_count": 24,
   "metadata": {},
   "outputs": [],
   "source": [
    "text = nltk.word_tokenize(abstract)"
   ]
  },
  {
   "cell_type": "code",
   "execution_count": 25,
   "metadata": {},
   "outputs": [
    {
     "data": {
      "text/plain": [
       "[(u'Enzymes', 'NNS'),\n",
       " (u'display', 'VBP'),\n",
       " (u'high', 'JJ'),\n",
       " (u'reactivity', 'NN'),\n",
       " (u'and', 'CC'),\n",
       " (u'selectivity', 'NN'),\n",
       " (u'under', 'IN'),\n",
       " (u'natural', 'JJ'),\n",
       " (u'conditions', 'NNS'),\n",
       " (u',', ','),\n",
       " (u'but', 'CC'),\n",
       " (u'may', 'MD'),\n",
       " (u'suffer', 'VB'),\n",
       " (u'from', 'IN'),\n",
       " (u'decreased', 'JJ'),\n",
       " (u'efficiency', 'NN'),\n",
       " (u'in', 'IN'),\n",
       " (u'industrial', 'JJ'),\n",
       " (u'applications', 'NNS'),\n",
       " (u'.', '.'),\n",
       " (u'A', 'DT'),\n",
       " (u'strategy', 'NN'),\n",
       " (u'to', 'TO'),\n",
       " (u'address', 'VB'),\n",
       " (u'this', 'DT'),\n",
       " (u'limitation', 'NN'),\n",
       " (u'is', 'VBZ'),\n",
       " (u'to', 'TO'),\n",
       " (u'immobilize', 'VB'),\n",
       " (u'the', 'DT'),\n",
       " (u'enzyme', 'NN'),\n",
       " (u'.', '.'),\n",
       " (u'Mesoporous', 'NNP'),\n",
       " (u'silica', 'JJ'),\n",
       " (u'materials', 'NNS'),\n",
       " (u'offer', 'VBP'),\n",
       " (u'unique', 'JJ'),\n",
       " (u'properties', 'NNS'),\n",
       " (u'as', 'IN'),\n",
       " (u'an', 'DT'),\n",
       " (u'immobilization', 'NN'),\n",
       " (u'support', 'NN'),\n",
       " (u',', ','),\n",
       " (u'such', 'JJ'),\n",
       " (u'as', 'IN'),\n",
       " (u'high', 'JJ'),\n",
       " (u'surface', 'NN'),\n",
       " (u'area', 'NN'),\n",
       " (u'and', 'CC'),\n",
       " (u'tunable', 'JJ'),\n",
       " (u'pore', 'NN'),\n",
       " (u'size', 'NN'),\n",
       " (u'.', '.')]"
      ]
     },
     "execution_count": 25,
     "metadata": {},
     "output_type": "execute_result"
    }
   ],
   "source": [
    "nltk.pos_tag(text)"
   ]
  },
  {
   "cell_type": "code",
   "execution_count": null,
   "metadata": {},
   "outputs": [],
   "source": []
  }
 ],
 "metadata": {
  "kernelspec": {
   "display_name": "Python 2",
   "language": "python",
   "name": "python2"
  },
  "language_info": {
   "codemirror_mode": {
    "name": "ipython",
    "version": 2
   },
   "file_extension": ".py",
   "mimetype": "text/x-python",
   "name": "python",
   "nbconvert_exporter": "python",
   "pygments_lexer": "ipython2",
   "version": "2.7.14"
  }
 },
 "nbformat": 4,
 "nbformat_minor": 2
}
