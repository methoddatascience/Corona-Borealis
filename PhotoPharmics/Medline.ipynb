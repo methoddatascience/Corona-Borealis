{
 "cells": [
  {
   "cell_type": "markdown",
   "metadata": {},
   "source": [
    "Extracting Data from Medline\n",
    "\n",
    "The instructions here have been taken from - Trial from instructions posted here: https://medlineplus.gov/webservices.html\n",
    "\n",
    "Base URL\n",
    "http://wsearch.nlm.nih.gov/ws/query\n",
    "\n",
    "Parameters to the query: \n",
    "1. db => Database name, in this case \"healthTopics\"\n",
    "2. term -> Text query submitted to the Web service. All special characters must be URL encoded. Spaces may be replaced by '+' signs, which represent the AND operator. Represent the OR operator as +OR+. To send a query as a phrase, enclose the phrase in quotes using %22 to represent quotation marks.\n",
    "\n",
    "Example url -- https://wsearch.nlm.nih.gov/ws/query?db=healthTopics&term=asthma\n",
    "\n",
    "Field Search - The text for term can include limiters to restrict the search to a specific health topic field. The syntax is <fieldName>:<fieldValue>.\n",
    "Fields that can be search are - Full Summary, title, alt-title, mesh, group"
   ]
  },
  {
   "cell_type": "code",
   "execution_count": 1,
   "metadata": {},
   "outputs": [],
   "source": [
    "from bs4 import BeautifulSoup\n",
    "import requests"
   ]
  },
  {
   "cell_type": "code",
   "execution_count": 32,
   "metadata": {},
   "outputs": [
    {
     "name": "stdout",
     "output_type": "stream",
     "text": [
      "https://wsearch.nlm.nih.gov/ws/query?db=healthTopics&term=asthma&rettype=brief\n"
     ]
    }
   ],
   "source": [
    "# for a particular disease\n",
    "disease = 'asthma'\n",
    "url = 'https://wsearch.nlm.nih.gov/ws/query?db=healthTopics&term='+ disease+\\\n",
    "    '&rettype=brief'\n",
    "print (url)"
   ]
  },
  {
   "cell_type": "code",
   "execution_count": 33,
   "metadata": {},
   "outputs": [
    {
     "data": {
      "text/plain": [
       "200"
      ]
     },
     "execution_count": 33,
     "metadata": {},
     "output_type": "execute_result"
    }
   ],
   "source": [
    "#do we have a good return status from the site\n",
    "r = requests.get(url)\n",
    "r.status_code"
   ]
  },
  {
   "cell_type": "code",
   "execution_count": 34,
   "metadata": {},
   "outputs": [
    {
     "data": {
      "text/plain": [
       "'text/xml; charset=UTF-8'"
      ]
     },
     "execution_count": 34,
     "metadata": {},
     "output_type": "execute_result"
    }
   ],
   "source": [
    "r.headers['Content-Type']"
   ]
  },
  {
   "cell_type": "code",
   "execution_count": 35,
   "metadata": {},
   "outputs": [],
   "source": [
    "soup = BeautifulSoup(r.content, \"xml\")"
   ]
  },
  {
   "cell_type": "code",
   "execution_count": 64,
   "metadata": {},
   "outputs": [],
   "source": [
    "summaries = soup.find_all(\"content\", {\"name\" : \"FullSummary\"})"
   ]
  },
  {
   "cell_type": "code",
   "execution_count": 63,
   "metadata": {},
   "outputs": [
    {
     "data": {
      "text/plain": [
       "<content name=\"FullSummary\">&lt;p&gt;&lt;span class=\"qt0\"&gt;Asthma&lt;/span&gt; is a chronic disease that affects your airways. Your airways are tubes that carry air in and out of your lungs. If you have &lt;span class=\"qt0\"&gt;asthma&lt;/span&gt;, the inside walls of your airways become sore and swollen. That makes them very sensitive, and they may react strongly to things that you are allergic to or find irritating. When your airways react, they get narrower and your lungs get less air.&lt;/p&gt;&lt;p&gt;Symptoms of &lt;span class=\"qt0\"&gt;asthma&lt;/span&gt; include&lt;/p&gt;&lt;ul&gt;&lt;li&gt;Wheezing&lt;/li&gt;&lt;li&gt;Coughing, especially early in the morning or at night&lt;/li&gt;&lt;li&gt;Chest tightness&lt;/li&gt;&lt;li&gt;Shortness of breath&lt;/li&gt;&lt;/ul&gt;&lt;p&gt;Not all people who have &lt;span class=\"qt0\"&gt;asthma&lt;/span&gt; have these symptoms. Having these symptoms doesn't always mean that you have &lt;span class=\"qt0\"&gt;asthma&lt;/span&gt;. Your doctor will diagnose &lt;span class=\"qt0\"&gt;asthma&lt;/span&gt; based on lung function tests, your medical history, and a physical exam. You may also have allergy tests.&lt;/p&gt;&lt;p&gt;When your &lt;span class=\"qt0\"&gt;asthma&lt;/span&gt; symptoms become worse than usual, it's called an &lt;span class=\"qt0\"&gt;asthma&lt;/span&gt; attack. Severe &lt;span class=\"qt0\"&gt;asthma&lt;/span&gt; attacks may require emergency care, and they can be fatal.&lt;/p&gt;&lt;p&gt;&lt;span class=\"qt0\"&gt;Asthma&lt;/span&gt; is treated with two kinds of medicines: quick-relief medicines to stop &lt;span class=\"qt0\"&gt;asthma&lt;/span&gt; symptoms and long-term control medicines to prevent symptoms. &lt;/p&gt;&lt;p&gt;NIH: National Heart, Lung, and Blood Institute&lt;/p&gt;</content>"
      ]
     },
     "execution_count": 63,
     "metadata": {},
     "output_type": "execute_result"
    }
   ],
   "source": [
    "# sample summary for a asthma \n",
    "summaries[0]"
   ]
  }
 ],
 "metadata": {
  "kernelspec": {
   "display_name": "Python [conda env:Anaconda3]",
   "language": "python",
   "name": "conda-env-Anaconda3-py"
  },
  "language_info": {
   "codemirror_mode": {
    "name": "ipython",
    "version": 3
   },
   "file_extension": ".py",
   "mimetype": "text/x-python",
   "name": "python",
   "nbconvert_exporter": "python",
   "pygments_lexer": "ipython3",
   "version": "3.5.4"
  }
 },
 "nbformat": 4,
 "nbformat_minor": 2
}
