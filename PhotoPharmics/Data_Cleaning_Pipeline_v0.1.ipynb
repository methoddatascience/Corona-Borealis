{
 "cells": [
  {
   "cell_type": "code",
   "execution_count": 1,
   "metadata": {
    "collapsed": true
   },
   "outputs": [],
   "source": [
    "import pandas as pd\n",
    "\n",
    "from bs4 import BeautifulSoup\n",
    "import requests\n",
    "\n",
    "from nltk.corpus import stopwords\n",
    "from nltk.stem.snowball import SnowballStemmer\n",
    "from string import ascii_lowercase"
   ]
  },
  {
   "cell_type": "code",
   "execution_count": 2,
   "metadata": {},
   "outputs": [
    {
     "name": "stdout",
     "output_type": "stream",
     "text": [
      "https://wsearch.nlm.nih.gov/ws/query?db=healthTopics&term=asthma&rettype=brief\n",
      "https://www.ncbi.nlm.nih.gov/pmc/oai/oai.cgi?verb=ListRecords&from=2018-01-22&until=2018-06-22&set=bmcbioc&metadataPrefix=pmc\n"
     ]
    }
   ],
   "source": [
    "# for a particular disease\n",
    "disease = 'asthma'\n",
    "begin_date = '2018-01-22'\n",
    "end_date = '2018-06-22'\n",
    "\n",
    "url = 'https://wsearch.nlm.nih.gov/ws/query?db=healthTopics&term='+ disease+\\\n",
    "    '&rettype=brief'\n",
    "url2 = 'https://www.ncbi.nlm.nih.gov/pmc/oai/' +\\\n",
    "      'oai.cgi?verb=ListRecords&from={}&until={}'\\\n",
    "      .format(begin_date, end_date) +\\\n",
    "      '&set=bmcbioc&metadataPrefix=pmc'\n",
    "print (url)\n",
    "print (url2)"
   ]
  },
  {
   "cell_type": "code",
   "execution_count": 3,
   "metadata": {},
   "outputs": [
    {
     "name": "stdout",
     "output_type": "stream",
     "text": [
      "200\n",
      "200\n"
     ]
    }
   ],
   "source": [
    "#do we have a good return status from the site\n",
    "r = requests.get(url)\n",
    "r2 = requests.get(url2)\n",
    "\n",
    "print(r.status_code)\n",
    "print(r2.status_code)"
   ]
  },
  {
   "cell_type": "code",
   "execution_count": 4,
   "metadata": {},
   "outputs": [
    {
     "name": "stdout",
     "output_type": "stream",
     "text": [
      "text/xml; charset=UTF-8\n",
      "text/xml\n"
     ]
    }
   ],
   "source": [
    "print(r.headers['Content-Type'])\n",
    "print(r2.headers['Content-Type'])"
   ]
  },
  {
   "cell_type": "code",
   "execution_count": 33,
   "metadata": {
    "collapsed": true
   },
   "outputs": [],
   "source": [
    "soup = BeautifulSoup(r.content, \"xml\")\n",
    "soup2 = BeautifulSoup(r2.content, \"lxml\")"
   ]
  },
  {
   "cell_type": "code",
   "execution_count": 34,
   "metadata": {},
   "outputs": [],
   "source": [
    "medline = soup.find_all(\"content\", {\"name\" : \"FullSummary\"})\n",
    "pmcrawdata = soup2.find_all(\"record\")"
   ]
  },
  {
   "cell_type": "code",
   "execution_count": 35,
   "metadata": {
    "collapsed": true
   },
   "outputs": [],
   "source": [
    "pmc = []\n",
    "for th in pmcrawdata:\n",
    "    pmc.extend(th.find_all(\"abstract\"))"
   ]
  },
  {
   "cell_type": "code",
   "execution_count": 36,
   "metadata": {
    "collapsed": true
   },
   "outputs": [],
   "source": [
    "def textCleaner(summaries):\n",
    "    \"\"\" Takes in a list of bs4.element.tag datatype object are returns a pandas dataframe object \"\"\"\n",
    "    for i in xrange(len(summaries)):\n",
    "        summaries[i] = summaries[i].text\n",
    "        summaries[i] = BeautifulSoup(summaries[i],\"lxml\").text\n",
    "        \n",
    "    return pd.DataFrame(data=summaries,columns=['text'])"
   ]
  },
  {
   "cell_type": "code",
   "execution_count": 37,
   "metadata": {
    "collapsed": true
   },
   "outputs": [],
   "source": [
    "cleanmedline = textCleaner(medline)"
   ]
  },
  {
   "cell_type": "code",
   "execution_count": 38,
   "metadata": {},
   "outputs": [
    {
     "data": {
      "text/html": [
       "<div>\n",
       "<style scoped>\n",
       "    .dataframe tbody tr th:only-of-type {\n",
       "        vertical-align: middle;\n",
       "    }\n",
       "\n",
       "    .dataframe tbody tr th {\n",
       "        vertical-align: top;\n",
       "    }\n",
       "\n",
       "    .dataframe thead th {\n",
       "        text-align: right;\n",
       "    }\n",
       "</style>\n",
       "<table border=\"1\" class=\"dataframe\">\n",
       "  <thead>\n",
       "    <tr style=\"text-align: right;\">\n",
       "      <th></th>\n",
       "      <th>text</th>\n",
       "    </tr>\n",
       "  </thead>\n",
       "  <tbody>\n",
       "    <tr>\n",
       "      <th>0</th>\n",
       "      <td>Asthma is a chronic disease that affects your ...</td>\n",
       "    </tr>\n",
       "    <tr>\n",
       "      <th>1</th>\n",
       "      <td>Asthma is a chronic disease that affects your ...</td>\n",
       "    </tr>\n",
       "    <tr>\n",
       "      <th>2</th>\n",
       "      <td>An allergy is a reaction by your immune system...</td>\n",
       "    </tr>\n",
       "    <tr>\n",
       "      <th>3</th>\n",
       "      <td>Each spring, summer, and fall, trees, weeds, a...</td>\n",
       "    </tr>\n",
       "    <tr>\n",
       "      <th>4</th>\n",
       "      <td>Molds are fungi that can be found both outdoor...</td>\n",
       "    </tr>\n",
       "  </tbody>\n",
       "</table>\n",
       "</div>"
      ],
      "text/plain": [
       "                                                text\n",
       "0  Asthma is a chronic disease that affects your ...\n",
       "1  Asthma is a chronic disease that affects your ...\n",
       "2  An allergy is a reaction by your immune system...\n",
       "3  Each spring, summer, and fall, trees, weeds, a...\n",
       "4  Molds are fungi that can be found both outdoor..."
      ]
     },
     "execution_count": 38,
     "metadata": {},
     "output_type": "execute_result"
    }
   ],
   "source": [
    "cleanmedline.head()"
   ]
  },
  {
   "cell_type": "code",
   "execution_count": 39,
   "metadata": {},
   "outputs": [],
   "source": [
    "cleanedPMC = textCleaner(pmc)"
   ]
  },
  {
   "cell_type": "code",
   "execution_count": 40,
   "metadata": {
    "collapsed": true
   },
   "outputs": [],
   "source": [
    "#Stemmer\n",
    "stemmer = SnowballStemmer('english')\n",
    "def stemsList(l):\n",
    "    \"\"\" Input : list ; Output : list of stemmed words \"\"\"\n",
    "    return list(map(lambda x: stemmer.stem(x), l))\n",
    "\n",
    "\n",
    "#stopwords\n",
    "stop = stopwords.words('english')\n",
    "otherstop = set(['','\\n'])\n",
    "stop = set(stemsList(stop))\n",
    "stop = stop | otherstop\n",
    "def removeStopwords(s):\n",
    "    return [w for w in s.split(' ') if w not in stop]\n",
    "\n",
    "#cleantext\n",
    "cleanedPMC['text'].replace('[!\"#%\\'()*+,./:;<=>?@\\[\\]^_`{|}~’”“′‘\\\\\\]',' ',inplace=True,regex=True) # remove characters\n",
    "cleanedPMC['text'].replace('\\n',' ',inplace=True,regex=True) # remove characters\n",
    "cleanedPMC['text'] = cleanedPMC['text'].map(lambda x: x.lower()) # lower case\n",
    "cleanedPMC['list'] = cleanedPMC['text'].map(lambda s: stemsList(removeStopwords(s)))\n",
    "\n",
    "#cleantext\n",
    "cleanmedline['text'].replace('[!\"#%\\'()*+,./:;<=>?@\\[\\]^_`{|}~’”“′‘\\\\\\]',' ',inplace=True,regex=True) # remove characters\n",
    "cleanmedline['text'].replace('\\n',' ',inplace=True,regex=True) # remove characters\n",
    "cleanmedline['text'] = cleanmedline['text'].map(lambda x: x.lower()) # lower case\n",
    "cleanmedline['list'] = cleanmedline['text'].map(lambda s: stemsList(removeStopwords(s)))"
   ]
  },
  {
   "cell_type": "code",
   "execution_count": 41,
   "metadata": {},
   "outputs": [
    {
     "data": {
      "text/plain": [
       "u'background enzymes display high reactivity and selectivity under natural conditions  but may suffer from decreased efficiency in industrial applications  a strategy to address this limitation is to immobilize the enzyme  mesoporous silica materials offer unique properties as an immobilization support  such as high surface area and tunable pore size    results the performance of a commercially available feruloyl esterase  e-faeru  immobilized on mesoporous silica by physical adsorption was evaluated for its transesterification ability  we optimized the immobilization conditions by varying the support pore size  the immobilization buffer and its ph  maximum loading and maximum activity were achieved at different phs  4 0 and 6 0 respectively   selectivity  shown by the transesterification hydrolysis products molar ratio  varied more than 3-fold depending on the reaction buffer used and its ph  under all conditions studied  hydrolysis was the dominant activity of the enzyme  ph and water content had the greatest influence on the enzyme selectivity and activity  determined kinetic parameters of the enzyme were obtained and\\xa0showed that km was not affected by the immobilization but kcat was reduced 10-fold when comparing the free and immobilized enzymes  thermal and ph stabilities as well as the reusability were investigated  the immobilized biocatalyst retained more than 20  of its activity after ten cycles of transesterification reaction    conclusions these results indicate that this enzyme is more suited for hydrolysis reactions than transesterification despite good reusability  furthermore  it was found that the immobilization conditions are crucial for optimal enzyme activity as they can alter the enzyme performance    electronic supplementary material the online version of this article  10 1186 s12858-018-0091-y  contains supplementary material  which is available to authorized users   '"
      ]
     },
     "execution_count": 41,
     "metadata": {},
     "output_type": "execute_result"
    }
   ],
   "source": [
    "cleanedPMC.text[0]"
   ]
  },
  {
   "cell_type": "code",
   "execution_count": 42,
   "metadata": {},
   "outputs": [
    {
     "name": "stdout",
     "output_type": "stream",
     "text": [
      "[u'background', u'enzym', u'display', u'high', u'reactiv', u'select', u'natur', u'condit', u'may', u'suffer', u'decreas', u'effici', u'industri', u'applic', u'strategi', u'address', u'limit', u'immobil', u'enzym', u'mesopor', u'silica', u'materi', u'offer', u'uniqu', u'properti', u'immobil', u'support', u'high', u'surfac', u'area', u'tunabl', u'pore', u'size', u'result', u'perform', u'commerci', u'avail', u'feruloyl', u'esteras', u'e-faeru', u'immobil', u'mesopor', u'silica', u'physic', u'adsorpt', u'evalu', u'it', u'transesterif', u'abil', u'optim', u'immobil', u'condit', u'vari', u'support', u'pore', u'size', u'immobil', u'buffer', u'it', u'ph', u'maximum', u'load', u'maximum', u'activ', u'achiev', u'differ', u'phs', u'4', u'0', u'6', u'0', u'respect', u'select', u'shown', u'transesterif', u'hydrolysi', u'product', u'molar', u'ratio', u'vari', u'3-fold', u'depend', u'reaction', u'buffer', u'use', u'it', u'ph', u'condit', u'studi', u'hydrolysi', u'domin', u'activ', u'enzym', u'ph', u'water', u'content', u'greatest', u'influenc', u'enzym', u'select', u'activ', u'determin', u'kinet', u'paramet', u'enzym', u'obtain', u'and\\xa0show', u'km', u'affect', u'immobil', u'kcat', u'reduc', u'10-fold', u'compar', u'free', u'immobil', u'enzym', u'thermal', u'ph', u'stabil', u'well', u'reusabl', u'investig', u'immobil', u'biocatalyst', u'retain', u'20', u'it', u'activ', u'ten', u'cycl', u'transesterif', u'reaction', u'conclus', u'result', u'indic', u'enzym', u'suit', u'hydrolysi', u'reaction', u'transesterif', u'despit', u'good', u'reusabl', u'furthermor', u'found', u'immobil', u'condit', u'crucial', u'optim', u'enzym', u'activ', u'alter', u'enzym', u'perform', u'electron', u'supplementari', u'materi', u'onlin', u'version', u'articl', u'10', u'1186', u's12858-018-0091-i', u'contain', u'supplementari', u'materi', u'avail', u'author', u'user']\n"
     ]
    }
   ],
   "source": [
    "print(cleanedPMC.list[0])"
   ]
  },
  {
   "cell_type": "code",
   "execution_count": 43,
   "metadata": {},
   "outputs": [
    {
     "data": {
      "text/plain": [
       "u'asthma is a chronic disease that affects your airways  your airways are tubes that carry air in and out of your lungs  if you have asthma  the inside walls of your airways become sore and swollen  that makes them very sensitive  and they may react strongly to things that you are allergic to or find irritating  when your airways react  they get narrower and your lungs get less air symptoms of asthma includewheezingcoughing  especially early in the morning or at nightchest tightnessshortness of breathnot all people who have asthma have these symptoms  having these symptoms doesn t always mean that you have asthma  your doctor will diagnose asthma based on lung function tests  your medical history  and a physical exam  you may also have allergy tests when your asthma symptoms become worse than usual  it s called an asthma attack  severe asthma attacks may require emergency care  and they can be fatal asthma is treated with two kinds of medicines  quick-relief medicines to stop asthma symptoms and long-term control medicines to prevent symptoms  nih  national heart  lung  and blood institute'"
      ]
     },
     "execution_count": 43,
     "metadata": {},
     "output_type": "execute_result"
    }
   ],
   "source": [
    "cleanmedline.text[0]"
   ]
  },
  {
   "cell_type": "code",
   "execution_count": 45,
   "metadata": {},
   "outputs": [
    {
     "name": "stdout",
     "output_type": "stream",
     "text": [
      "[u'asthma', u'chronic', u'diseas', u'affect', u'airway', u'airway', u'tube', u'carri', u'air', u'lung', u'asthma', u'insid', u'wall', u'airway', u'becom', u'sore', u'swollen', u'make', u'veri', u'sensit', u'may', u'react', u'strong', u'thing', u'allerg', u'find', u'irrit', u'airway', u'react', u'get', u'narrow', u'lung', u'get', u'less', u'air', u'symptom', u'asthma', u'includewheezingcough', u'especi', u'earli', u'morn', u'nightchest', u'tightnessshort', u'breathnot', u'peopl', u'asthma', u'symptom', u'have', u'symptom', u'alway', u'mean', u'asthma', u'doctor', u'diagnos', u'asthma', u'base', u'lung', u'function', u'test', u'medic', u'histori', u'physic', u'exam', u'may', u'also', u'allergi', u'test', u'asthma', u'symptom', u'becom', u'wors', u'usual', u'call', u'asthma', u'attack', u'sever', u'asthma', u'attack', u'may', u'requir', u'emerg', u'care', u'fatal', u'asthma', u'treat', u'two', u'kind', u'medicin', u'quick-relief', u'medicin', u'stop', u'asthma', u'symptom', u'long-term', u'control', u'medicin', u'prevent', u'symptom', u'nih', u'nation', u'heart', u'lung', u'blood', u'institut']\n"
     ]
    }
   ],
   "source": [
    "print(cleanmedline.list[0])"
   ]
  },
  {
   "cell_type": "code",
   "execution_count": null,
   "metadata": {
    "collapsed": true
   },
   "outputs": [],
   "source": []
  }
 ],
 "metadata": {
  "kernelspec": {
   "display_name": "Python 2",
   "language": "python",
   "name": "python2"
  },
  "language_info": {
   "codemirror_mode": {
    "name": "ipython",
    "version": 2
   },
   "file_extension": ".py",
   "mimetype": "text/x-python",
   "name": "python",
   "nbconvert_exporter": "python",
   "pygments_lexer": "ipython2",
   "version": "2.7.10"
  }
 },
 "nbformat": 4,
 "nbformat_minor": 2
}
